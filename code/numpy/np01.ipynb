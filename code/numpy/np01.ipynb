{
 "cells": [
  {
   "cell_type": "code",
   "execution_count": null,
   "metadata": {
    "collapsed": true
   },
   "outputs": [],
   "source": [
    "# numpy 的主要作用就是多维矩阵的计算。\n",
    "# 所以它在数据处理方面非常有用。\n",
    "\n",
    "import numpy as np\n"
   ]
  },
  {
   "cell_type": "code",
   "execution_count": null,
   "metadata": {},
   "outputs": [],
   "source": [
    "# 创建一个3×5的多维数组\n",
    "a = np.arange(15).reshape(3, 5)\n",
    "print(a)\n",
    "\n",
    "# 它的形状\n",
    "print(a.shape)\n",
    "\n",
    "# 它的维度\n",
    "print(a.ndim)\n",
    "\n",
    "# 数据类型\n",
    "print(a.dtype.name)\n",
    "\n",
    "# 每个元素的大小\n",
    "print(a.itemsize)\n",
    "\n",
    "#元素个数\n",
    "print(a.size)\n",
    "\n",
    "# 类型\n",
    "print(type(a))\n",
    "\n",
    "b = np.array([6, 7, 8])\n",
    "print(b)\n",
    "# 类型\n",
    "print(type(b))\n",
    "\n",
    "# 类型可以在创建的时候指定\n",
    "c = np.array( [ [1,2], [3,4] ], dtype=complex)\n",
    "print(c)\n"
   ]
  },
  {
   "cell_type": "code",
   "execution_count": null,
   "metadata": {},
   "outputs": [],
   "source": [
    "# 一般情况下，矩阵的维数是已知的，但是内容不知道，这样就可以拿一些东西来填充。\n",
    "print(np.zeros((3,4)))\n",
    "print(np.ones( (2,3,4), dtype=np.int16 ))\n",
    "print(np.empty((2,3)))\n"
   ]
  },
  {
   "cell_type": "code",
   "execution_count": null,
   "metadata": {},
   "outputs": [],
   "source": [
    "# 另一个函数linspace不是提供步长，而是返回的元素个数。\n",
    "from numpy import pi\n",
    "print(np.linspace( 0, 2, 9 ))                 # 9 numbers from 0 to 2\n",
    "\n",
    "x = np.linspace( 0, 2*pi, 100 )        # useful to evaluate function at lots of points\n",
    "print(x)\n",
    "f = np.sin(x)\n",
    "print(f)\n"
   ]
  },
  {
   "cell_type": "code",
   "execution_count": null,
   "metadata": {},
   "outputs": [],
   "source": [
    "# 注意学习下面的这些函数\n",
    "# array, zeros, zeros_like, ones, ones_like, empty, empty_like, arange,\n",
    "# linspace, numpy.random.rand, numpy.random.randn, fromfunction, fromfile"
   ]
  },
  {
   "cell_type": "code",
   "execution_count": null,
   "metadata": {},
   "outputs": [],
   "source": [
    "# numpy的矩阵运算。\n",
    "# 矩阵之间的数学运算符的运算的元素级别的。\n",
    "a = np.array( [20,30,40,50] )\n",
    "\n",
    "b = np.arange( 4 )\n",
    "print(b)\n",
    "\n",
    "c = a-b\n",
    "print(c)\n",
    "\n",
    "print(b**2)\n",
    "\n",
    "print(10*np.sin(a))\n",
    "\n",
    "print(a<35)\n"
   ]
  },
  {
   "cell_type": "code",
   "execution_count": null,
   "metadata": {},
   "outputs": [],
   "source": [
    "# * 符号是元素之间的相乘关系\n",
    "A = np.array( [[1,1],\n",
    "            [0,1]] )\n",
    "B = np.array( [[2,0],\n",
    "            [3,4]] )\n",
    "print(A * B)                      # elementwise product\n",
    "\n",
    "print(A @ B)                       # matrix product\n",
    "\n",
    "print(A.dot(B))                    # another matrix product\n"
   ]
  },
  {
   "cell_type": "code",
   "execution_count": null,
   "metadata": {},
   "outputs": [],
   "source": [
    "# 类型upcasting,不同类型的元素之间的运算之间的类型转换。\n",
    "a = np.ones(3, dtype=np.int32)\n",
    "b = np.linspace(0,pi,3)\n",
    "print(b.dtype.name)\n",
    "\n",
    "c = a+b\n",
    "print(c)\n",
    "\n",
    "print(c.dtype.name)\n"
   ]
  },
  {
   "cell_type": "code",
   "execution_count": null,
   "metadata": {},
   "outputs": [],
   "source": [
    "# 可以对所有的元素进行运算，例如求和、最小、最大值\n",
    "a = np.random.random((2,3))\n",
    "print(a)\n",
    "\n",
    "print(a.sum())\n",
    "\n",
    "print(a.min())\n",
    "\n",
    "print(a.max())\n"
   ]
  },
  {
   "cell_type": "code",
   "execution_count": null,
   "metadata": {},
   "outputs": [],
   "source": [
    "# 也可以在不同的维度上取sum和min等\n",
    "b = np.arange(12).reshape(3,4)\n",
    "print(b)\n",
    "\n",
    "print(b.sum(axis=0))  # sum of each column\n",
    "\n",
    "print(b.min(axis=1))  # min of each row\n",
    "\n",
    "print(b.cumsum(axis=1))      # cumulative sum along each row\n"
   ]
  },
  {
   "cell_type": "code",
   "execution_count": null,
   "metadata": {},
   "outputs": [],
   "source": [
    "# numpy还提供了一些其它的函数，用于元素级别的运算，例如指数、开方等等。\n",
    "B = np.arange(3)\n",
    "print(B)\n",
    "\n",
    "print(np.exp(B))\n",
    "\n",
    "print(np.sqrt(B))\n",
    "\n",
    "C = np.array([2., -1., 4.])\n",
    "print(np.add(B, C))\n"
   ]
  },
  {
   "cell_type": "code",
   "execution_count": null,
   "metadata": {},
   "outputs": [],
   "source": [
    "# 可以参考下面的函数\n",
    "# all, any, apply_along_axis, argmax, argmin, argsort, average, bincount,\n",
    "# ceil, clip, conj, corrcoef, cov, cross, cumprod, cumsum, diff, dot, floor,\n",
    "# inner, inv, lexsort, max, maximum, mean, median, min, minimum, nonzero,\n",
    "# outer, prod, re, round, sort, std, sum, trace, transpose, var, vdot, vectorize, where"
   ]
  },
  {
   "cell_type": "code",
   "execution_count": null,
   "metadata": {},
   "outputs": [],
   "source": [
    "# 如何对矩阵中的元素取值和赋值\n",
    "a = np.arange(10)**3\n",
    "print(a)\n",
    "\n",
    "print(a[2])\n",
    "\n",
    "print(a[2:5])\n",
    "\n",
    "# equivalent to a[0:6:2] = -1000; from start to position 6, exclusive,\n",
    "# set every 2nd element to -1000\n",
    "a[:6:2] = -1000\n",
    "print(a)\n",
    "\n",
    "print(a[ : :-1])                                 # reversed a\n",
    "\n",
    "'''\n",
    "for i in a:\n",
    "    print(i**(1/3.))\n",
    "'''"
   ]
  },
  {
   "cell_type": "code",
   "execution_count": null,
   "metadata": {},
   "outputs": [],
   "source": [
    "def f(x,y):\n",
    "    return 10*x+y\n",
    "\n",
    "b = np.fromfunction(f,(5,4),dtype=int)\n",
    "print(b)\n",
    "\n",
    "print(b[2,3])\n",
    "\n",
    "print(b[0:5, 1])                       # each row in the second column of b\n",
    "\n",
    "print(b[ : ,1])                        # equivalent to the previous example\n",
    "\n",
    "print(b[1:3, : ])                      # each column in the second and third row of b\n",
    "\n",
    "print(b[-1])                           # the last row. Equivalent to b[-1,:]"
   ]
  },
  {
   "cell_type": "code",
   "execution_count": null,
   "metadata": {},
   "outputs": [],
   "source": [
    "# 还可以使用...来代替其余的内容\n",
    "c = np.array( [[[  0,  1,  2],               # a 3D array (two stacked 2D arrays)\n",
    "                [ 10, 12, 13]],\n",
    "               [[100,101,102],\n",
    "                [110,112,113]]])\n",
    "print(c.shape)\n",
    "\n",
    "print(c[1,...])                                   # same as c[1,:,:] or c[1]\n",
    "\n",
    "print(c[...,2])                                   # same as c[:,:,2]"
   ]
  },
  {
   "cell_type": "code",
   "execution_count": null,
   "metadata": {},
   "outputs": [],
   "source": [
    "# 用下面的方式来列举矩阵中的元素\n",
    "for row in b:\n",
    "    print(row)\n",
    "\n",
    "for element in b.flat:\n",
    "    print(element)\n",
    "\n",
    "# 参考Indexing, Indexing (reference), newaxis, ndenumerate, indices\n"
   ]
  },
  {
   "cell_type": "code",
   "execution_count": null,
   "metadata": {},
   "outputs": [],
   "source": [
    "# 矩阵的变形\n",
    "a = np.floor(10*np.random.random((3,4)))\n",
    "\n",
    "print(a)\n",
    "\n",
    "print(a.shape)\n",
    "\n",
    "print(a.ravel())  # returns the array, flattened\n",
    "\n",
    "print(a.reshape(6,2))  # returns the array with a modified shape\n",
    "\n",
    "print(a.T)  # returns the array, transposed\n",
    "\n",
    "print(a.T.shape)\n",
    "\n",
    "print(a.shape)\n"
   ]
  },
  {
   "cell_type": "code",
   "execution_count": null,
   "metadata": {},
   "outputs": [],
   "source": [
    "# 如果某个维度是-1,那么这个维度自动计算。\n",
    "print(a.reshape(3,-1))\n",
    "\n",
    "# reshape只是返回一个改变后的矩阵，但是resize直接改变原来的矩阵。\n",
    "print(a)\n",
    "a.resize((2,6))\n",
    "print(a)\n"
   ]
  },
  {
   "cell_type": "code",
   "execution_count": null,
   "metadata": {},
   "outputs": [],
   "source": [
    "# 可以把矩阵罗列起来。\n",
    "a = np.floor(10*np.random.random((2,2)))\n",
    "print(a)\n",
    "\n",
    "b = np.floor(10*np.random.random((2,2)))\n",
    "print(b)\n",
    "\n",
    "# 竖着罗\n",
    "print(np.vstack((a,b)))\n",
    "\n",
    "# 横着罗\n",
    "print(np.hstack((a,b)))\n"
   ]
  },
  {
   "cell_type": "code",
   "execution_count": null,
   "metadata": {},
   "outputs": [],
   "source": [
    "# 通过newaxis可以增加维度。\n",
    "from numpy import newaxis\n",
    "np.column_stack((a,b))     # with 2D arrays\n",
    "\n",
    "a = np.array([4.,2.])\n",
    "b = np.array([3.,8.])\n",
    "print(np.column_stack((a,b)))     # returns a 2D array\n",
    "\n",
    "print(np.hstack((a,b)))           # the result is different\n",
    "\n",
    "print(a[:,newaxis])              \n",
    "\n",
    "# this allows to have a 2D columns vector\n",
    "print(np.column_stack((a[:,newaxis],b[:,newaxis])))\n",
    "\n",
    "# the result is the same\n",
    "print(np.hstack((a[:,newaxis],b[:,newaxis])))   \n",
    "\n"
   ]
  },
  {
   "cell_type": "code",
   "execution_count": null,
   "metadata": {},
   "outputs": [],
   "source": [
    "# 可以把大的矩阵分割成小的\n",
    "a = np.floor(10*np.random.random((2,12)))\n",
    "print(a)\n",
    "\n",
    "print(np.hsplit(a,3))   # Split a into 3\n",
    "\n",
    "# Split a after the third and the fourth column\n",
    "print(np.hsplit(a,(3,4)))   \n"
   ]
  },
  {
   "cell_type": "markdown",
   "metadata": {},
   "source": [
    "Copies and Views"
   ]
  },
  {
   "cell_type": "code",
   "execution_count": null,
   "metadata": {},
   "outputs": [],
   "source": [
    "# 赋值语句并不产生拷贝动作，两个变量指向同一个对象\n",
    "a = np.arange(12)\n",
    "b = a            # no new object is created\n",
    "print(b is a)           # a and b are two names for the same ndarray object\n",
    "\n",
    "b.shape = 3,4    # changes the shape of a\n",
    "print(a.shape)\n",
    "\n",
    "def f(x):\n",
    "    print(id(x))\n",
    "\n",
    "print(id(a))    # id is a unique identifier of an object\n",
    "\n",
    "f(a)\n"
   ]
  },
  {
   "cell_type": "code",
   "execution_count": null,
   "metadata": {},
   "outputs": [],
   "source": [
    "# view表示一个浅copy，\n",
    "c = a.view()\n",
    "print(c is a)\n",
    "\n",
    "print(c.base is a)          # c is a view of the data owned by a\n",
    "\n",
    "print(c.flags.owndata)\n",
    "\n",
    "c.shape = 2,6       # a's shape doesn't change\n",
    "print(a.shape)\n",
    "\n",
    "c[0,4] = 1234        # a's data changes\n",
    "print(c)\n",
    "print(a)\n",
    "\n",
    "# spaces added for clarity; could also be written \"s = a[:,1:3]\"\n",
    "s = a[ : , 1:3]  \n",
    "\n",
    "# s[:] is a view of s. Note the difference between s=10 and s[:]=10\n",
    "s[:] = 10 \n",
    "\n",
    "print(a)\n"
   ]
  },
  {
   "cell_type": "markdown",
   "metadata": {},
   "source": [
    "Fancy indexing and index tricks¶"
   ]
  },
  {
   "cell_type": "code",
   "execution_count": null,
   "metadata": {},
   "outputs": [],
   "source": [
    "# 可以把一个数组作为另一个数组的索引\n",
    "a = np.arange(12)**2                       # the first 12 square numbers\n",
    "i = np.array( [ 1,1,3,8,5 ] )              # an array of indices\n",
    "print(a[i])                                       # the elements of a at the positions i\n",
    "\n",
    "# 还可以保持形状。\n",
    "j = np.array( [ [ 3, 4], [ 9, 7 ] ] )      # a bidimensional array of indices\n",
    "print(a[j])\n",
    "# the same shape as j"
   ]
  },
  {
   "cell_type": "code",
   "execution_count": null,
   "metadata": {},
   "outputs": [],
   "source": [
    "# 当索引数组是一个多维的情况下，只对被索引数组的第一维起作用。\n",
    "palette = np.array( [ [0,0,0],                # black\n",
    "                      [255,0,0],              # red\n",
    "                      [0,255,0],              # green\n",
    "                      [0,0,255],              # blue\n",
    "                      [255,255,255] ] )       # white\n",
    "image = np.array( [ [ 0, 1, 2, 0 ],           # each value corresponds to a color in the palette\n",
    "                    [ 0, 3, 4, 0 ]  ] )\n",
    "print(palette[image])                            # the (2,4,3) color image\n"
   ]
  },
  {
   "cell_type": "code",
   "execution_count": null,
   "metadata": {},
   "outputs": [],
   "source": [
    "# 可以有多于一维的索引\n",
    "a = np.arange(12).reshape(3,4)\n",
    "print(a)\n",
    "\n",
    " # indices for the first dim of a\n",
    "i = np.array( [ [0,1],                        \n",
    "                [1,2] ] )\n",
    "\n",
    "# indices for the second dim\n",
    "j = np.array( [ [2,1],                        \n",
    "                [3,3] ] )\n",
    "\n",
    "print(a[i,j])   # i and j must have equal shape                                  \n",
    "\n",
    "print(a[i,2])\n",
    "\n",
    "print(a[:,j])        # i.e., a[ : , j]\n",
    "\n",
    "#可以把i和j放在一个sequence里面,例如list或者tuple\n",
    "l = [i,j]\n",
    "print(a[l])                # equivalent to a[i,j]\n"
   ]
  },
  {
   "cell_type": "code",
   "execution_count": null,
   "metadata": {},
   "outputs": [],
   "source": [
    "# 可以使用索引来赋值\n",
    "a = np.arange(5)\n",
    "print(a)\n",
    "\n",
    "a[[1,3,4]] = 0\n",
    "print(a)\n",
    "\n",
    "# 当索引有重复时，以最后一个为准。\n",
    "a = np.arange(5)\n",
    "a[[0,0,2]]=[1,2,3]\n",
    "print(a)\n"
   ]
  },
  {
   "cell_type": "code",
   "execution_count": null,
   "metadata": {},
   "outputs": [],
   "source": [
    "# 可以用布尔值作为索引\n",
    "a = np.arange(12).reshape(3,4)\n",
    "b = a > 4\n",
    "print(b)           # b is a boolean with a's shape\n",
    "\n",
    "print(a[b])        # 1d array with the selected elements\n",
    "\n",
    "print(a[a>4])      # it is same\n",
    "\n",
    "# 一个方便的用处是赋值\n",
    "a[b] = 0\n",
    "print(a)"
   ]
  },
  {
   "cell_type": "code",
   "execution_count": null,
   "metadata": {},
   "outputs": [],
   "source": [
    "import matplotlib.pyplot as plt\n",
    "def mandelbrot( h,w, maxit=20 ):\n",
    "    \"\"\"Returns an image of the Mandelbrot fractal of size (h,w).\"\"\"\n",
    "    y,x = np.ogrid[ -1.4:1.4:h*1j, -2:0.8:w*1j ]\n",
    "    c = x+y*1j\n",
    "    z = c\n",
    "    divtime = maxit + np.zeros(z.shape, dtype=int)\n",
    "\n",
    "    for i in range(maxit):\n",
    "        z = z**2 + c\n",
    "        diverge = z*np.conj(z) > 2**2            # who is diverging\n",
    "        div_now = diverge & (divtime==maxit)  # who is diverging now\n",
    "        divtime[div_now] = i                  # note when\n",
    "        z[diverge] = 2                        # avoid diverging too much\n",
    "\n",
    "    return divtime\n",
    "plt.imshow(mandelbrot(400,400))\n",
    "# plt.show()"
   ]
  },
  {
   "cell_type": "code",
   "execution_count": null,
   "metadata": {},
   "outputs": [],
   "source": [
    "a = np.arange(12).reshape(3,4)\n",
    "b1 = np.array([False,True,True])             # first dim selection\n",
    "b2 = np.array([True,False,True,False])       # second dim selection\n",
    "\n",
    "print(a[b1,:])        # selecting rows\n",
    "\n",
    "print(a[b1])          # same thing\n",
    "\n",
    "print(a[:,b2])        # selecting columns\n",
    "\n",
    "print(a[b1,b2])       # a weird thing to do\n"
   ]
  },
  {
   "cell_type": "code",
   "execution_count": null,
   "metadata": {},
   "outputs": [],
   "source": [
    "# The ix_ function can be used to combine different vectors \n",
    "# so as to obtain the result for each n-uplet. \n",
    "# For example, if you want to compute all the a+b*c \n",
    "# for all the triplets taken from each of the vectors a, b and c:\n",
    "\n",
    "a = np.array([2,3,4,5])\n",
    "b = np.array([8,5,4])\n",
    "c = np.array([5,4,6,8,3])\n",
    "ax,bx,cx = np.ix_(a,b,c)\n",
    "print(ax)\n",
    "\n",
    "print(bx)\n",
    "\n",
    "print(cx)\n",
    "\n",
    "print(ax.shape, bx.shape, cx.shape)\n",
    "\n",
    "result = ax+bx*cx\n",
    "print(result)\n",
    "\n",
    "\n",
    "print(result[3,2,4])\n",
    "\n",
    "print(a[3]+b[2]*c[4])\n"
   ]
  },
  {
   "cell_type": "code",
   "execution_count": null,
   "metadata": {},
   "outputs": [],
   "source": [
    "# 基本的线性代数操作。\n",
    "a = np.array([[1.0, 2.0], [3.0, 4.0]])\n",
    "print(a)\n",
    "\n",
    "print(a.transpose())\n",
    "\n",
    "print(np.linalg.inv(a))\n",
    "\n",
    "u = np.eye(2) # unit 2x2 matrix; \"eye\" represents \"I\"\n",
    "print(u)\n",
    "\n",
    "\n",
    "j = np.array([[0.0, -1.0], [1.0, 0.0]])\n",
    "\n",
    "print(j @ j)        # matrix product\n",
    "\n",
    "print(np.trace(u))  # trace\n",
    "\n",
    "y = np.array([[5.], [7.]])\n",
    "print(np.linalg.solve(a, y))\n",
    "\n",
    "print(np.linalg.eig(j))"
   ]
  },
  {
   "cell_type": "code",
   "execution_count": null,
   "metadata": {},
   "outputs": [],
   "source": [
    "# 当改变矩阵的形状是，矩阵自动reshape\n",
    "a = np.arange(30)\n",
    "a.shape = 2,-1,3  # -1 means \"whatever is needed\"\n",
    "print(a.shape)\n",
    "\n",
    "print(a)"
   ]
  },
  {
   "cell_type": "code",
   "execution_count": null,
   "metadata": {},
   "outputs": [],
   "source": [
    "import matplotlib.pyplot as plt\n",
    "# Build a vector of 10000 normal deviates with variance 0.5^2 and mean 2\n",
    "mu, sigma = 2, 0.5\n",
    "v = np.random.normal(mu,sigma,10000)\n",
    "# Plot a normalized histogram with 50 bins\n",
    "plt.hist(v, bins=50, density=1)       # matplotlib version (plot)\n",
    "#plt.show()"
   ]
  },
  {
   "cell_type": "code",
   "execution_count": null,
   "metadata": {},
   "outputs": [],
   "source": [
    "# Compute the histogram with numpy and then plot it\n",
    "(n, bins) = np.histogram(v, bins=50, density=True)  # NumPy version (no plot)\n",
    "plt.plot(.5*(bins[1:]+bins[:-1]), n)\n",
    "# plt.show()"
   ]
  }
 ],
 "metadata": {
  "kernelspec": {
   "display_name": "Python 2",
   "language": "python",
   "name": "python2"
  },
  "language_info": {
   "codemirror_mode": {
    "name": "ipython",
    "version": 2
   },
   "file_extension": ".py",
   "mimetype": "text/x-python",
   "name": "python",
   "nbconvert_exporter": "python",
   "pygments_lexer": "ipython2",
   "version": "2.7.6"
  }
 },
 "nbformat": 4,
 "nbformat_minor": 0
}
