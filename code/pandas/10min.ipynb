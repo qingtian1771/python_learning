{
 "cells": [
  {
   "cell_type": "code",
   "execution_count": null,
   "metadata": {
    "collapsed": true
   },
   "outputs": [],
   "source": [
    "import pandas as pd\n",
    "import numpy as np\n",
    "import matplotlib.pyplot as plt\n"
   ]
  },
  {
   "cell_type": "markdown",
   "metadata": {},
   "source": [
    "创建对象"
   ]
  },
  {
   "cell_type": "code",
   "execution_count": null,
   "metadata": {},
   "outputs": [],
   "source": [
    "# 创建一个Series。传入一个list，pandas会自动加上索引0,1,2...\n",
    "In [4]: s = pd.Series([1,3,5,np.nan,6,8])\n",
    "print(s)\n"
   ]
  },
  {
   "cell_type": "code",
   "execution_count": null,
   "metadata": {},
   "outputs": [],
   "source": [
    "# Creating a DataFrame by passing a NumPy array, \n",
    "# with a datetime index and labeled columns:\n",
    "\n",
    "dates = pd.date_range('20130101', periods=6)\n",
    "print(dates)\n",
    "\n",
    "df = pd.DataFrame(np.random.randn(6,4), index=dates, columns=list('ABCD'))\n",
    "print(df)\n"
   ]
  },
  {
   "cell_type": "code",
   "execution_count": null,
   "metadata": {},
   "outputs": [],
   "source": [
    "# Creating a DataFrame by passing a dict of objects \n",
    "# that can be converted to series-like.\n",
    "df2 = pd.DataFrame({ 'A' : 1.,\n",
    "                     'B' : pd.Timestamp('20130102'),\n",
    "                     'C' : pd.Series(1,index=list(range(4)),dtype='float32'),\n",
    "                     'D' : np.array([3] * 4,dtype='int32'),\n",
    "                     'E' : pd.Categorical([\"test\",\"train\",\"test\",\"train\"]),\n",
    "                     'F' : 'foo' })\n",
    "print(df2)\n",
    "\n",
    "print(df2.dtypes)\n",
    "\n",
    "# 在IPython下使用 tab键可以看到属性。\n"
   ]
  },
  {
   "cell_type": "markdown",
   "metadata": {},
   "source": [
    "查看数据"
   ]
  },
  {
   "cell_type": "code",
   "execution_count": null,
   "metadata": {},
   "outputs": [],
   "source": [
    "# 查看头和尾的数据\n",
    "print(df.head())\n",
    "print(df.tail(3))"
   ]
  },
  {
   "cell_type": "code",
   "execution_count": null,
   "metadata": {},
   "outputs": [],
   "source": [
    "# Display the index, columns, and the underlying NumPy data:\n",
    "print(df.index)\n",
    "print(df.columns)\n",
    "print(df.values)\n",
    "\n",
    "#显示一个简单的统计描述。\n",
    "print(df.describe())\n"
   ]
  },
  {
   "cell_type": "code",
   "execution_count": null,
   "metadata": {},
   "outputs": [],
   "source": [
    "# 数据转置\n",
    "print(df.T)\n",
    "\n",
    "# 根据维度(索引)排序\n",
    "print(df.sort_index(axis=1, ascending=False))\n",
    "\n",
    "# 根据值排序\n",
    "print(df.sort_values(by='B'))\n"
   ]
  },
  {
   "cell_type": "markdown",
   "metadata": {},
   "source": [
    "Selection"
   ]
  },
  {
   "cell_type": "code",
   "execution_count": null,
   "metadata": {},
   "outputs": [],
   "source": [
    "# 选择一列A\n",
    "print(df['A'])\n",
    "\n",
    "# 选择前三行\n",
    "print(df[0:3])\n",
    "\n",
    "# 通过索引选择\n",
    "print(df['20130102':'20130104'])\n",
    "\n",
    "# 通过label来选择特定的行。\n",
    "print(df.loc[dates[0]])\n",
    "\n",
    "# 通过label选择特定的列\n",
    "print(df.loc[:,['A','B']])\n",
    "\n",
    "# 通过label选择特定的行和列\n",
    "print(df.loc['20130102':'20130104',['A','B']])\n",
    "\n",
    "# 选择单个值\n",
    "print(df.loc[dates[0],'A'])\n",
    "print(df.at[dates[0],'A'])\n",
    "\n"
   ]
  },
  {
   "cell_type": "code",
   "execution_count": null,
   "metadata": {},
   "outputs": [],
   "source": [
    "# 通过位置来选择\n",
    "\n",
    "# 选择某一行\n",
    "print(df.iloc[3])\n",
    "\n",
    "# 选择第几行到第几行，第几列到第几列\n",
    "print(df.iloc[3:5,0:2])\n",
    "\n",
    "# 选择某几行、某几列。\n",
    "print(df.iloc[[1,2,4],[0,2]])\n",
    "\n",
    "# 选择某几行\n",
    "print(df.iloc[1:3,:])\n",
    "\n",
    "# 选择某几列\n",
    "print(df.iloc[:,1:3])\n",
    "\n",
    "# 选择某个位置的值\n",
    "print(df.iloc[1,1])\n",
    "print(df.iat[1,1])\n",
    "\n",
    "\n"
   ]
  },
  {
   "cell_type": "markdown",
   "metadata": {},
   "source": [
    "Boolean Indexing"
   ]
  },
  {
   "cell_type": "code",
   "execution_count": null,
   "metadata": {},
   "outputs": [],
   "source": [
    "# 选择A列的值大于0的数据\n",
    "print(df[df.A > 0])\n",
    "\n",
    "# 选择数据中大于0的数据\n",
    "print(df[df > 0])\n",
    "\n",
    "\n",
    "df2 = df.copy()\n",
    "# 给数据增加一列\n",
    "df2['E'] = ['one', 'one','two','three','four','three']\n",
    "print(df2)\n",
    "\n",
    "# 选择包含特定数据的行\n",
    "df2[df2['E'].isin(['two','four'])]"
   ]
  },
  {
   "cell_type": "markdown",
   "metadata": {},
   "source": [
    "Setting"
   ]
  },
  {
   "cell_type": "code",
   "execution_count": null,
   "metadata": {},
   "outputs": [],
   "source": [
    "# 添加一列数据\n",
    "s1 = pd.Series([1,2,3,4,5,6], index=pd.date_range('20130102', periods=6))\n",
    "print(s1)\n",
    "df['F'] = s1\n",
    "print(df)\n",
    "\n",
    "# 通过label去赋值\n",
    "df.at[dates[0],'A'] = 0\n",
    "\n",
    "# 通过位置去赋值\n",
    "df.iat[0,1] = 0\n",
    "\n",
    "# 用numpy array对某一列赋值\n",
    "df.loc[:,'D'] = np.array([5] * len(df))\n",
    "\n",
    "print(df)\n",
    "\n",
    "# A where operation with setting.\n",
    "# 所有大于0的值取负号\n",
    "df2 = df.copy()\n",
    "df2[df2 > 0] = -df2\n",
    "\n",
    "print(df2)"
   ]
  },
  {
   "cell_type": "markdown",
   "metadata": {},
   "source": [
    "Missing Data"
   ]
  },
  {
   "cell_type": "code",
   "execution_count": null,
   "metadata": {},
   "outputs": [],
   "source": [
    "# pandas 主要使用np.nan来表示缺失的数据。\n",
    "\n",
    "# Reindexing allows you to change/add/delete the index on a specified axis. \n",
    "# This returns a copy of the data.\n",
    "df1 = df.reindex(index=dates[0:4], columns=list(df.columns) + ['E'])\n",
    "\n",
    "df1.loc[dates[0]:dates[1],'E'] = 1\n",
    "\n",
    "print(df1)\n",
    "\n",
    "# 去掉含有缺失数据的行\n",
    "print(df1.dropna(how='any'))\n",
    "\n",
    "# 把缺失数据的行填写某个值\n",
    "print(df1.fillna(value=5))\n",
    "\n",
    "# To get the boolean mask where values are nan.\n",
    "print(pd.isna(df1))\n"
   ]
  },
  {
   "cell_type": "markdown",
   "metadata": {},
   "source": [
    "Operations"
   ]
  },
  {
   "cell_type": "code",
   "execution_count": null,
   "metadata": {},
   "outputs": [],
   "source": [
    "# 求各列的均值\n",
    "df.mean()\n",
    "\n",
    "# 求各行的均值\n",
    "df.mean(1)\n",
    "\n",
    "s = pd.Series([1,3,5,np.nan,6,8], index=dates).shift(2)\n",
    "print(s)\n",
    "\n",
    "# 用所有数据减去一列\n",
    "# pandas automatically broadcasts along the specified dimension.\n",
    "df.sub(s, axis='index')\n",
    "\n",
    "# 可以对数据应用一些函数\n",
    "\n",
    "# 在列上累加\n",
    "print(df.apply(np.cumsum))\n",
    "\n",
    "# 应用lambda表达式\n",
    "print(df.apply(lambda x: x.max() - x.min()))\n",
    "\n",
    "# 统计不同的值的个数\n",
    "s = pd.Series(np.random.randint(0, 7, size=10))\n",
    "print(s)\n",
    "\n",
    "print(s.value_counts())\n",
    "\n",
    "# 还有关于字符串的一些操作。\n",
    "s = pd.Series(['A', 'B', 'C', 'Aaba', 'Baca', np.nan, 'CABA', 'dog', 'cat'])\n",
    "print(s.str.lower())\n"
   ]
  },
  {
   "cell_type": "markdown",
   "metadata": {},
   "source": [
    "Merge"
   ]
  },
  {
   "cell_type": "code",
   "execution_count": null,
   "metadata": {},
   "outputs": [],
   "source": [
    "# Concatenating pandas objects together with concat():\n",
    "\n",
    "# 一个10行4列的数据\n",
    "df = pd.DataFrame(np.random.randn(10, 4))\n",
    "print(df)\n",
    "\n",
    "# 分成三部分\n",
    "pieces = [df[:3], df[3:7], df[7:]]\n",
    "print(pieces)\n",
    "\n",
    "# 再合并起来\n",
    "pd.concat(pieces)\n"
   ]
  },
  {
   "cell_type": "code",
   "execution_count": null,
   "metadata": {},
   "outputs": [],
   "source": [
    "# SQL style merges.\n",
    "\n",
    "left = pd.DataFrame({'key': ['foo', 'foo'], 'lval': [1, 2]})\n",
    "\n",
    "right = pd.DataFrame({'key': ['foo', 'foo'], 'rval': [4, 5]})\n",
    "\n",
    "print(left)\n",
    "print(right)\n",
    "\n",
    "pd.merge(left, right, on='key')\n",
    "# 上面的数据为什么有四行，是因为有2×2=4个foo\n",
    "\n",
    "left = pd.DataFrame({'key': ['foo', 'bar'], 'lval': [1, 2]})\n",
    "\n",
    "right = pd.DataFrame({'key': ['foo', 'bar'], 'rval': [4, 5]})\n",
    "\n",
    "print(left)\n",
    "print(right)\n",
    "\n",
    "pd.merge(left, right, on='key')\n",
    "# 上面的数据为什么有两行，是因为有1×1=1个foo，和1×1=1个bar\n"
   ]
  },
  {
   "cell_type": "code",
   "execution_count": null,
   "metadata": {},
   "outputs": [],
   "source": [
    "# 添加数据，添加行数据\n",
    "\n",
    "df = pd.DataFrame(np.random.randn(8, 4), columns=['A','B','C','D'])\n",
    "\n",
    "print(df)\n",
    "\n",
    "# 取出第三行数据\n",
    "s = df.iloc[3]\n",
    "\n",
    "# 添加到末尾\n",
    "df.append(s, ignore_index=True)\n"
   ]
  },
  {
   "cell_type": "code",
   "execution_count": null,
   "metadata": {},
   "outputs": [],
   "source": [
    "# 数据分组 Grouping,分组有下面几个目的。\n",
    "# Splitting the data into groups based on some criteria\n",
    "# Applying a function to each group independently\n",
    "# Combining the results into a data structure\n",
    "\n",
    "\n",
    "\n",
    "df = pd.DataFrame({'A' : ['foo', 'bar', 'foo', 'bar',\n",
    "                          'foo', 'bar', 'foo', 'foo'],\n",
    "                   'B' : ['one', 'one', 'two', 'three',\n",
    "                          'two', 'two', 'one', 'three'],\n",
    "                   'C' : np.random.randn(8),\n",
    "                   'D' : np.random.randn(8)})\n",
    "\n",
    "print(df)\n",
    "\n",
    "# Grouping and then applying the sum() function to the resulting groups.\n",
    "print(df.groupby('A').sum())\n",
    "\n",
    "# Grouping by multiple columns forms a hierarchical index, \n",
    "# and again we can apply the sum function.\n",
    "print(df.groupby(['A','B']).sum())\n",
    "\n",
    "\n"
   ]
  },
  {
   "cell_type": "code",
   "execution_count": null,
   "metadata": {},
   "outputs": [],
   "source": [
    "tuples = list(zip(*[['bar', 'bar', 'baz', 'baz',\n",
    "                     'foo', 'foo', 'qux', 'qux'],\n",
    "                    ['one', 'two', 'one', 'two',\n",
    "                     'one', 'two', 'one', 'two']]))\n",
    "    \n",
    "print(tuples)\n",
    "\n",
    "index = pd.MultiIndex.from_tuples(tuples, names=['first', 'second'])\n",
    "print(index)\n",
    "\n",
    "df = pd.DataFrame(np.random.randn(8, 2), index=index, columns=['A', 'B'])\n",
    "\n",
    "df2 = df[:4]\n",
    "\n",
    "print(df2)"
   ]
  },
  {
   "cell_type": "code",
   "execution_count": null,
   "metadata": {},
   "outputs": [],
   "source": [
    "# stack的作用就是把行变成列\n",
    "\n",
    "stacked = df2.stack()\n",
    "\n",
    "print(stacked)\n",
    "\n",
    "print(stacked.unstack())\n",
    "\n",
    "print(stacked.unstack(1))\n",
    "\n",
    "print(stacked.unstack(0))\n",
    "\n",
    "\n"
   ]
  },
  {
   "cell_type": "code",
   "execution_count": null,
   "metadata": {},
   "outputs": [],
   "source": [
    "\n",
    "df = pd.DataFrame({'A' : ['one', 'one', 'two', 'three'] * 3,\n",
    "                   'B' : ['A', 'B', 'C'] * 4,\n",
    "                   'C' : ['foo', 'foo', 'foo', 'bar', 'bar', 'bar'] * 2,\n",
    "                   'D' : np.random.randn(12),\n",
    "                   'E' : np.random.randn(12)})\n",
    "print(df)\n",
    "\n",
    "pd.pivot_table(df, values='D', index=['A', 'B'], columns=['C'])\n"
   ]
  },
  {
   "cell_type": "code",
   "execution_count": null,
   "metadata": {},
   "outputs": [],
   "source": [
    "# 时间序列\n",
    "\n",
    "rng = pd.date_range('1/1/2012', periods=100, freq='S')\n",
    "print(rng)\n",
    "\n",
    "ts = pd.Series(np.random.randint(0, 500, len(rng)), index=rng)\n",
    "\n",
    "print(ts.resample('5Min'))\n",
    "\n",
    "print(ts.resample('5Min').sum())\n",
    "    \n"
   ]
  },
  {
   "cell_type": "code",
   "execution_count": null,
   "metadata": {},
   "outputs": [],
   "source": [
    "# Categoricals\n",
    "\n",
    "df = pd.DataFrame({\"id\":[1,2,3,4,5,6], \"raw_grade\":['a', 'b', 'b', 'a', 'a', 'e']})\n",
    "\n",
    "df[\"grade\"] = df[\"raw_grade\"].astype(\"category\")\n",
    "\n",
    "print(df[\"grade\"])\n",
    "\n",
    "#更改类别的名称。\n",
    "df[\"grade\"].cat.categories = [\"very good\", \"good\", \"very bad\"]\n",
    "\n",
    "df[\"grade\"] = df[\"grade\"].cat.set_categories([\"very bad\", \"bad\", \"medium\", \"good\", \"very good\"])\n",
    "\n",
    "print(df[\"grade\"])\n",
    "\n",
    "print(df.groupby(\"grade\").size())\n",
    "\n"
   ]
  },
  {
   "cell_type": "code",
   "execution_count": null,
   "metadata": {},
   "outputs": [],
   "source": [
    "# 输出图形\n",
    "\n",
    "ts = pd.Series(np.random.randn(1000), index=pd.date_range('1/1/2000', periods=1000))\n",
    "\n",
    "ts = ts.cumsum()\n",
    "\n",
    "ts.plot()\n",
    "\n"
   ]
  },
  {
   "cell_type": "code",
   "execution_count": null,
   "metadata": {},
   "outputs": [],
   "source": [
    "# 和plt一起输出图形。\n",
    "\n",
    "df = pd.DataFrame(np.random.randn(1000, 4), index=ts.index,\n",
    "                    columns=['A', 'B', 'C', 'D'])\n",
    "\n",
    "df = df.cumsum()\n",
    "\n",
    "plt.figure(); df.plot(); plt.legend(loc='best')\n"
   ]
  }
 ],
 "metadata": {
  "kernelspec": {
   "display_name": "Python 2",
   "language": "python",
   "name": "python2"
  },
  "language_info": {
   "codemirror_mode": {
    "name": "ipython",
    "version": 2
   },
   "file_extension": ".py",
   "mimetype": "text/x-python",
   "name": "python",
   "nbconvert_exporter": "python",
   "pygments_lexer": "ipython2",
   "version": "2.7.6"
  }
 },
 "nbformat": 4,
 "nbformat_minor": 0
}
